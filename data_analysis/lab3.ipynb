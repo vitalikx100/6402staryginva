{
 "cells": [
  {
   "cell_type": "code",
   "id": "initial_id",
   "metadata": {
    "collapsed": true,
    "ExecuteTime": {
     "end_time": "2024-11-28T10:36:42.190489Z",
     "start_time": "2024-11-28T10:36:41.359505Z"
    }
   },
   "source": [
    "from get_trends_data import TrendsData\n",
    "from trends_monitoring import TrendsMonitoring\n",
    "import warnings\n",
    "import logging.config\n",
    "import json"
   ],
   "outputs": [],
   "execution_count": 1
  },
  {
   "cell_type": "code",
   "id": "d79d273aefb241b0",
   "metadata": {
    "ExecuteTime": {
     "end_time": "2024-11-28T10:36:42.198536Z",
     "start_time": "2024-11-28T10:36:42.195016Z"
    }
   },
   "source": [
    "warnings.filterwarnings(\"ignore\")\n",
    "with open('configs/log_config.json', 'r') as config_file:\n",
    "    config = json.load(config_file)\n",
    "logging.config.dictConfig(config)"
   ],
   "outputs": [],
   "execution_count": 2
  },
  {
   "cell_type": "code",
   "id": "95d5ba273e0b9564",
   "metadata": {
    "ExecuteTime": {
     "end_time": "2024-11-28T10:36:42.788691Z",
     "start_time": "2024-11-28T10:36:42.306610Z"
    }
   },
   "source": [
    "keywords = ['NFT']\n",
    "timeframe = 'today 5-y' \n",
    "geo = ''\n",
    "trends_data = TrendsData(keywords=keywords, timeframe=timeframe, geo=geo)\n",
    "data = trends_data.fetch_data()\n",
    "print(data)\n"
   ],
   "outputs": [
    {
     "name": "stdout",
     "output_type": "stream",
     "text": [
      "            NFT\n",
      "date           \n",
      "2019-11-24    0\n",
      "2019-12-01    0\n",
      "2019-12-08    0\n",
      "2019-12-15    0\n",
      "2019-12-22    0\n",
      "...         ...\n",
      "2024-10-27    4\n",
      "2024-11-03    4\n",
      "2024-11-10    5\n",
      "2024-11-17    5\n",
      "2024-11-24    5\n",
      "\n",
      "[262 rows x 1 columns]\n"
     ]
    },
    {
     "name": "stderr",
     "output_type": "stream",
     "text": [
      "D:\\PyCharmProjects\\6402staryginva\\data_analysis\\.venv\\Lib\\site-packages\\pytrends\\request.py:260: FutureWarning: Downcasting object dtype arrays on .fillna, .ffill, .bfill is deprecated and will change in a future version. Call result.infer_objects(copy=False) instead. To opt-in to the future behavior, set `pd.set_option('future.no_silent_downcasting', True)`\n",
      "  df = df.fillna(False)\n"
     ]
    }
   ],
   "execution_count": 3
  },
  {
   "cell_type": "code",
   "id": "8c8bbda7eed37793",
   "metadata": {
    "ExecuteTime": {
     "end_time": "2024-11-28T10:40:06.584035Z",
     "start_time": "2024-11-28T10:40:06.568456Z"
    }
   },
   "source": [
    "keywords = ['NFT']\n",
    "timeframe = 'today 5-y'\n",
    "geo = ''\n",
    "trends_data = TrendsData(keywords=keywords, timeframe=timeframe, geo=geo)\n",
    "monitoring_1 = TrendsMonitoring(trends_data, 10)\n",
    "monitoring_1.start()"
   ],
   "outputs": [
    {
     "name": "stderr",
     "output_type": "stream",
     "text": [
      "2024-11-28 14:40:06,578 - trends_monitoring.trends_monitoring - INFO - Generated results successfully.\n",
      "2024-11-28 14:40:06,578 - trends_monitoring.trends_monitoring - INFO - Trends monitoring started.\n"
     ]
    },
    {
     "name": "stdout",
     "output_type": "stream",
     "text": [
      "            Moving Average  Differential  Autocorrelation  Maximum  Minimum\n",
      "date                                                                       \n",
      "2019-11-24             NaN           NaN         0.982843      NaN      NaN\n",
      "2019-12-01             NaN           0.0         0.982843      NaN      NaN\n",
      "2019-12-08        0.000000           0.0         0.982843      NaN      NaN\n",
      "2019-12-15        0.000000           0.0         0.982843      NaN      NaN\n",
      "2019-12-22        0.000000           0.0         0.982843      NaN      NaN\n",
      "...                    ...           ...              ...      ...      ...\n",
      "2024-10-27        4.333333          -1.0         0.982843      NaN      NaN\n",
      "2024-11-03        4.333333           0.0         0.982843      NaN      NaN\n",
      "2024-11-10        4.333333           1.0         0.982843      NaN      NaN\n",
      "2024-11-17        4.666667           0.0         0.982843      NaN      NaN\n",
      "2024-11-24        5.000000           0.0         0.982843      NaN      NaN\n",
      "\n",
      "[262 rows x 5 columns]\n"
     ]
    }
   ],
   "execution_count": 80
  },
  {
   "cell_type": "code",
   "id": "586aeef08effc2cb",
   "metadata": {
    "ExecuteTime": {
     "end_time": "2024-11-28T10:41:40.217459Z",
     "start_time": "2024-11-28T10:41:40.208916Z"
    }
   },
   "source": [
    "keywords_2 = ['Oreshnik']\n",
    "timeframe_2 = 'today 3-m'\n",
    "trends_data_2 = TrendsData(keywords=keywords_2, timeframe=timeframe_2, geo=geo)\n",
    "monitoring_2 = TrendsMonitoring(trends_data_2, 10)\n",
    "monitoring_2.start()"
   ],
   "outputs": [
    {
     "name": "stdout",
     "output_type": "stream",
     "text": [
      "            Moving Average  Differential  Autocorrelation  Maximum  Minimum\n",
      "date                                                                       \n",
      "2024-08-28             NaN           NaN         0.839007      NaN      NaN\n",
      "2024-08-29             NaN           0.0         0.839007      NaN      NaN\n",
      "2024-08-30        0.000000           0.0         0.839007      NaN      NaN\n",
      "2024-08-31        0.000000           0.0         0.839007      NaN      NaN\n",
      "2024-09-01        0.000000           0.0         0.839007      NaN      NaN\n",
      "...                    ...           ...              ...      ...      ...\n",
      "2024-11-24       72.333333         -25.0         0.839007      NaN      NaN\n",
      "2024-11-25       49.666667         -14.0         0.839007      NaN     32.0\n",
      "2024-11-26       38.333333           5.0         0.839007     37.0      NaN\n",
      "2024-11-27       30.333333         -15.0         0.839007      NaN      NaN\n",
      "2024-11-28       25.000000          -6.0         0.839007      NaN      NaN\n",
      "\n",
      "[93 rows x 5 columns]\n"
     ]
    },
    {
     "name": "stderr",
     "output_type": "stream",
     "text": [
      "2024-11-28 14:41:40,213 - trends_monitoring.trends_monitoring - INFO - Trends monitoring started.\n"
     ]
    }
   ],
   "execution_count": 109
  },
  {
   "cell_type": "code",
   "id": "d7a99acfd3e3fcf9",
   "metadata": {
    "ExecuteTime": {
     "end_time": "2024-11-28T10:36:42.995287Z",
     "start_time": "2024-11-28T10:36:42.992774Z"
    }
   },
   "source": "#monitoring_1.stop()",
   "outputs": [],
   "execution_count": 6
  },
  {
   "cell_type": "code",
   "id": "65105b019dfb6f8",
   "metadata": {
    "ExecuteTime": {
     "end_time": "2024-11-28T10:36:43.005341Z",
     "start_time": "2024-11-28T10:36:43.003330Z"
    }
   },
   "source": "#monitoring_2.stop()",
   "outputs": [],
   "execution_count": 7
  }
 ],
 "metadata": {
  "kernelspec": {
   "display_name": "Python 3",
   "language": "python",
   "name": "python3"
  },
  "language_info": {
   "codemirror_mode": {
    "name": "ipython",
    "version": 3
   },
   "file_extension": ".py",
   "mimetype": "text/x-python",
   "name": "python",
   "nbconvert_exporter": "python",
   "pygments_lexer": "ipython3",
   "version": "3.12.3"
  }
 },
 "nbformat": 4,
 "nbformat_minor": 5
}
