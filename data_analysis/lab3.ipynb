{
 "cells": [
  {
   "cell_type": "code",
   "id": "initial_id",
   "metadata": {
    "collapsed": true,
    "ExecuteTime": {
     "end_time": "2024-11-25T16:44:53.664217Z",
     "start_time": "2024-11-25T16:44:53.661203Z"
    }
   },
   "source": [
    "from get_trends_data import TrendsData\n",
    "from trends_monitoring import TrendsMonitoring\n",
    "import warnings\n",
    "import logging.config\n",
    "import json"
   ],
   "outputs": [],
   "execution_count": 2
  },
  {
   "cell_type": "code",
   "id": "d79d273aefb241b0",
   "metadata": {
    "ExecuteTime": {
     "end_time": "2024-11-25T16:44:55.086581Z",
     "start_time": "2024-11-25T16:44:55.083064Z"
    }
   },
   "source": [
    "with open('configs/log_config.json', 'r') as config_file:\n",
    "    config = json.load(config_file)\n",
    "logging.config.dictConfig(config)"
   ],
   "outputs": [],
   "execution_count": 3
  },
  {
   "cell_type": "code",
   "id": "95d5ba273e0b9564",
   "metadata": {
    "ExecuteTime": {
     "end_time": "2024-11-25T16:46:10.008629Z",
     "start_time": "2024-11-25T16:46:09.601006Z"
    }
   },
   "source": [
    "keywords = ['NFT']\n",
    "timeframe = 'today 5-y' \n",
    "geo = ''\n",
    "trends_data = TrendsData(keywords=keywords, timeframe=timeframe, geo=geo)\n",
    "results_df = trends_data.fetch_data()\n",
    "display(results_df)\n"
   ],
   "outputs": [
    {
     "name": "stderr",
     "output_type": "stream",
     "text": [
      "2024-11-25 20:46:09,603 - get_trends_data.trends_data - INFO - Fetching data for keywords: ['NFT'], timeframe: today 5-y, geo: \n",
      "D:\\PyCharmProjects\\6402staryginva\\data_analysis\\.venv\\Lib\\site-packages\\pytrends\\request.py:260: FutureWarning: Downcasting object dtype arrays on .fillna, .ffill, .bfill is deprecated and will change in a future version. Call result.infer_objects(copy=False) instead. To opt-in to the future behavior, set `pd.set_option('future.no_silent_downcasting', True)`\n",
      "  df = df.fillna(False)\n",
      "2024-11-25 20:46:10,002 - get_trends_data.trends_data - INFO - Generated results successfully.\n"
     ]
    },
    {
     "name": "stdout",
     "output_type": "stream",
     "text": [
      "Function generate_results completed.\n"
     ]
    },
    {
     "data": {
      "text/plain": [
       "            Moving Average  Differential  Autocorrelation  Maximum  Minimum\n",
       "date                                                                       \n",
       "2019-11-24             NaN           NaN         0.981912      NaN      NaN\n",
       "2019-12-01             NaN           0.0         0.981912      NaN      NaN\n",
       "2019-12-08        0.000000           0.0         0.981912      NaN      NaN\n",
       "2019-12-15        0.000000           0.0         0.981912      NaN      NaN\n",
       "2019-12-22        0.000000           0.0         0.981912      NaN      NaN\n",
       "...                    ...           ...              ...      ...      ...\n",
       "2024-10-27        5.000000           0.0         0.981912      NaN      NaN\n",
       "2024-11-03        5.000000           0.0         0.981912      NaN      NaN\n",
       "2024-11-10        5.000000           0.0         0.981912      NaN      NaN\n",
       "2024-11-17        5.333333           1.0         0.981912      NaN      NaN\n",
       "2024-11-24        5.666667           0.0         0.981912      NaN      NaN\n",
       "\n",
       "[262 rows x 5 columns]"
      ],
      "text/html": [
       "<div>\n",
       "<style scoped>\n",
       "    .dataframe tbody tr th:only-of-type {\n",
       "        vertical-align: middle;\n",
       "    }\n",
       "\n",
       "    .dataframe tbody tr th {\n",
       "        vertical-align: top;\n",
       "    }\n",
       "\n",
       "    .dataframe thead th {\n",
       "        text-align: right;\n",
       "    }\n",
       "</style>\n",
       "<table border=\"1\" class=\"dataframe\">\n",
       "  <thead>\n",
       "    <tr style=\"text-align: right;\">\n",
       "      <th></th>\n",
       "      <th>Moving Average</th>\n",
       "      <th>Differential</th>\n",
       "      <th>Autocorrelation</th>\n",
       "      <th>Maximum</th>\n",
       "      <th>Minimum</th>\n",
       "    </tr>\n",
       "    <tr>\n",
       "      <th>date</th>\n",
       "      <th></th>\n",
       "      <th></th>\n",
       "      <th></th>\n",
       "      <th></th>\n",
       "      <th></th>\n",
       "    </tr>\n",
       "  </thead>\n",
       "  <tbody>\n",
       "    <tr>\n",
       "      <th>2019-11-24</th>\n",
       "      <td>NaN</td>\n",
       "      <td>NaN</td>\n",
       "      <td>0.981912</td>\n",
       "      <td>NaN</td>\n",
       "      <td>NaN</td>\n",
       "    </tr>\n",
       "    <tr>\n",
       "      <th>2019-12-01</th>\n",
       "      <td>NaN</td>\n",
       "      <td>0.0</td>\n",
       "      <td>0.981912</td>\n",
       "      <td>NaN</td>\n",
       "      <td>NaN</td>\n",
       "    </tr>\n",
       "    <tr>\n",
       "      <th>2019-12-08</th>\n",
       "      <td>0.000000</td>\n",
       "      <td>0.0</td>\n",
       "      <td>0.981912</td>\n",
       "      <td>NaN</td>\n",
       "      <td>NaN</td>\n",
       "    </tr>\n",
       "    <tr>\n",
       "      <th>2019-12-15</th>\n",
       "      <td>0.000000</td>\n",
       "      <td>0.0</td>\n",
       "      <td>0.981912</td>\n",
       "      <td>NaN</td>\n",
       "      <td>NaN</td>\n",
       "    </tr>\n",
       "    <tr>\n",
       "      <th>2019-12-22</th>\n",
       "      <td>0.000000</td>\n",
       "      <td>0.0</td>\n",
       "      <td>0.981912</td>\n",
       "      <td>NaN</td>\n",
       "      <td>NaN</td>\n",
       "    </tr>\n",
       "    <tr>\n",
       "      <th>...</th>\n",
       "      <td>...</td>\n",
       "      <td>...</td>\n",
       "      <td>...</td>\n",
       "      <td>...</td>\n",
       "      <td>...</td>\n",
       "    </tr>\n",
       "    <tr>\n",
       "      <th>2024-10-27</th>\n",
       "      <td>5.000000</td>\n",
       "      <td>0.0</td>\n",
       "      <td>0.981912</td>\n",
       "      <td>NaN</td>\n",
       "      <td>NaN</td>\n",
       "    </tr>\n",
       "    <tr>\n",
       "      <th>2024-11-03</th>\n",
       "      <td>5.000000</td>\n",
       "      <td>0.0</td>\n",
       "      <td>0.981912</td>\n",
       "      <td>NaN</td>\n",
       "      <td>NaN</td>\n",
       "    </tr>\n",
       "    <tr>\n",
       "      <th>2024-11-10</th>\n",
       "      <td>5.000000</td>\n",
       "      <td>0.0</td>\n",
       "      <td>0.981912</td>\n",
       "      <td>NaN</td>\n",
       "      <td>NaN</td>\n",
       "    </tr>\n",
       "    <tr>\n",
       "      <th>2024-11-17</th>\n",
       "      <td>5.333333</td>\n",
       "      <td>1.0</td>\n",
       "      <td>0.981912</td>\n",
       "      <td>NaN</td>\n",
       "      <td>NaN</td>\n",
       "    </tr>\n",
       "    <tr>\n",
       "      <th>2024-11-24</th>\n",
       "      <td>5.666667</td>\n",
       "      <td>0.0</td>\n",
       "      <td>0.981912</td>\n",
       "      <td>NaN</td>\n",
       "      <td>NaN</td>\n",
       "    </tr>\n",
       "  </tbody>\n",
       "</table>\n",
       "<p>262 rows × 5 columns</p>\n",
       "</div>"
      ]
     },
     "metadata": {},
     "output_type": "display_data"
    }
   ],
   "execution_count": 22
  },
  {
   "cell_type": "code",
   "id": "8c8bbda7eed37793",
   "metadata": {
    "ExecuteTime": {
     "end_time": "2024-11-25T16:47:48.985566Z",
     "start_time": "2024-11-25T16:47:48.974505Z"
    }
   },
   "source": [
    "keywords = ['NFT']\n",
    "timeframe = 'today 5-y'\n",
    "geo = ''\n",
    "trends_data = TrendsData(keywords=keywords, timeframe=timeframe, geo=geo)\n",
    "monitoring_1 = TrendsMonitoring(trends_data, 10)\n",
    "monitoring_1.start()\n",
    "monitoring_1.is_alive()"
   ],
   "outputs": [
    {
     "name": "stderr",
     "output_type": "stream",
     "text": [
      "2024-11-25 20:47:48,974 - get_trends_data.trends_data - INFO - Generated results successfully.\n",
      "2024-11-25 20:47:48,977 - trends_monitoring.trends_monitoring - INFO - Trends monitoring started.\n"
     ]
    },
    {
     "name": "stdout",
     "output_type": "stream",
     "text": [
      "            Moving Average  Differential  Autocorrelation  Maximum  Minimum\n",
      "date                                                                       \n",
      "2019-11-24             NaN           NaN         0.983972      NaN      NaN\n",
      "2019-12-01             NaN           0.0         0.983972      NaN      NaN\n",
      "2019-12-08        0.000000           0.0         0.983972      NaN      NaN\n",
      "2019-12-15        0.000000           0.0         0.983972      NaN      NaN\n",
      "2019-12-22        0.000000           0.0         0.983972      NaN      NaN\n",
      "...                    ...           ...              ...      ...      ...\n",
      "2024-10-27        4.333333          -1.0         0.983972      NaN      NaN\n",
      "2024-11-03        4.333333           0.0         0.983972      NaN      NaN\n",
      "2024-11-10        4.333333           1.0         0.983972      NaN      NaN\n",
      "2024-11-17        5.000000           1.0         0.983972      6.0      NaN\n",
      "2024-11-24        5.333333          -1.0         0.983972      NaN      NaN\n",
      "\n",
      "[262 rows x 5 columns]\n"
     ]
    },
    {
     "name": "stderr",
     "output_type": "stream",
     "text": [
      "2024-11-25 20:47:48,983 - get_trends_data.trends_data - INFO - Fetching data for keywords: ['NFT'], timeframe: today 5-y, geo: \n"
     ]
    },
    {
     "data": {
      "text/plain": [
       "True"
      ]
     },
     "execution_count": 93,
     "metadata": {},
     "output_type": "execute_result"
    }
   ],
   "execution_count": 93
  },
  {
   "cell_type": "code",
   "id": "586aeef08effc2cb",
   "metadata": {
    "ExecuteTime": {
     "end_time": "2024-11-25T16:48:18.873492Z",
     "start_time": "2024-11-25T16:48:18.855397Z"
    }
   },
   "source": [
    "keywords_2 = ['Oreshnik']\n",
    "timeframe_2 = 'today 3-m'\n",
    "trends_data_2 = TrendsData(keywords=keywords_2, timeframe=timeframe_2, geo=geo)\n",
    "monitoring_2 = TrendsMonitoring(trends_data_2, 10)\n",
    "monitoring_2.start()\n",
    "monitoring_2.is_alive()"
   ],
   "outputs": [
    {
     "name": "stderr",
     "output_type": "stream",
     "text": [
      "2024-11-25 20:48:18,858 - get_trends_data.trends_data - INFO - Generated results successfully.\n",
      "2024-11-25 20:48:18,862 - trends_monitoring.trends_monitoring - INFO - Trends monitoring started.\n"
     ]
    },
    {
     "name": "stdout",
     "output_type": "stream",
     "text": [
      "            Moving Average  Differential  Autocorrelation  Maximum  Minimum\n",
      "date                                                                       \n",
      "2024-08-25             NaN           NaN         0.824624      NaN      NaN\n",
      "2024-08-26             NaN           0.0         0.824624      NaN      NaN\n",
      "2024-08-27        0.000000           0.0         0.824624      NaN      NaN\n",
      "2024-08-28        0.000000           0.0         0.824624      NaN      NaN\n",
      "2024-08-29        0.000000           0.0         0.824624      NaN      NaN\n",
      "...                    ...           ...              ...      ...      ...\n",
      "2024-11-21       18.333333          55.0         0.824624      NaN      NaN\n",
      "2024-11-22       51.666667          45.0         0.824624    100.0      NaN\n",
      "2024-11-23       76.000000         -27.0         0.824624      NaN      NaN\n",
      "2024-11-24       71.333333         -32.0         0.824624      NaN      NaN\n",
      "2024-11-25       48.333333         -10.0         0.824624      NaN      NaN\n",
      "\n",
      "[93 rows x 5 columns]\n"
     ]
    },
    {
     "name": "stderr",
     "output_type": "stream",
     "text": [
      "2024-11-25 20:48:18,870 - get_trends_data.trends_data - INFO - Fetching data for keywords: ['Oreshnik'], timeframe: today 3-m, geo: \n"
     ]
    },
    {
     "data": {
      "text/plain": [
       "True"
      ]
     },
     "execution_count": 122,
     "metadata": {},
     "output_type": "execute_result"
    }
   ],
   "execution_count": 122
  },
  {
   "cell_type": "code",
   "id": "d7a99acfd3e3fcf9",
   "metadata": {
    "ExecuteTime": {
     "end_time": "2024-11-25T16:48:40.625977Z",
     "start_time": "2024-11-25T16:48:40.623463Z"
    }
   },
   "source": [
    "#monitoring_1.stop()"
   ],
   "outputs": [],
   "execution_count": 123
  },
  {
   "cell_type": "code",
   "id": "65105b019dfb6f8",
   "metadata": {
    "ExecuteTime": {
     "end_time": "2024-11-25T16:48:44.897874Z",
     "start_time": "2024-11-25T16:48:44.895864Z"
    }
   },
   "source": [
    "#monitoring_2.stop()"
   ],
   "outputs": [],
   "execution_count": 124
  }
 ],
 "metadata": {
  "kernelspec": {
   "display_name": "Python 3",
   "language": "python",
   "name": "python3"
  },
  "language_info": {
   "codemirror_mode": {
    "name": "ipython",
    "version": 3
   },
   "file_extension": ".py",
   "mimetype": "text/x-python",
   "name": "python",
   "nbconvert_exporter": "python",
   "pygments_lexer": "ipython3",
   "version": "3.12.3"
  }
 },
 "nbformat": 4,
 "nbformat_minor": 5
}
